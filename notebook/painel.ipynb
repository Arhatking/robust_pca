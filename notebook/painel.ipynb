{
 "cells": [
  {
   "cell_type": "code",
   "execution_count": 1,
   "metadata": {
    "collapsed": false
   },
   "outputs": [],
   "source": [
    "import time\n",
    "import pandas as pd\n",
    "import numpy as np\n",
    "pd.set_option('display.max_rows', 22)\n",
    "pd.set_option('display.max_columns', 100)\n",
    "from datetime import datetime\n",
    "import matplotlib.pyplot as plt\n",
    "plt.rcParams['figure.figsize'] = (16, 9)\n",
    "import matplotlib.style\n",
    "matplotlib.style.use('ggplot')\n",
    "#%pylab inline"
   ]
  },
  {
   "cell_type": "code",
   "execution_count": 2,
   "metadata": {
    "collapsed": true
   },
   "outputs": [],
   "source": [
    "def loadpanel(filename):\n",
    "    df = pd.read_csv(filename, sep='\\t', quoting=3, dtype=object)\n",
    "    df.columns = [x.lower() for x in df.columns.str.strip('˙')]\n",
    "    df.vl_ttl = df.vl_ttl.astype(str).apply(lambda x: x.replace(',','')).astype(float)\n",
    "    df.qt_tran = df.qt_tran.astype(str).apply(lambda x: x.replace(',','')).astype(int)\n",
    "    df['date'] = pd.to_datetime(df.ts.apply(lambda x: x[:-3]))\n",
    "    df = df.groupby('date').sum()\n",
    "    df.insert(1, 'vl_med', df.vl_ttl/df.qt_tran)\n",
    "    df['ts'] = [int(time.mktime(time.strptime(str(x)[:-3], '%Y-%m-%d %H:%M'))) for x in df.index]\n",
    "    df['cycle'] = df.ts.apply(lambda x: (x/60)%1440)\n",
    "    return df"
   ]
  },
  {
   "cell_type": "code",
   "execution_count": 3,
   "metadata": {
    "collapsed": false
   },
   "outputs": [],
   "source": [
    "month = '07'\n",
    "path = '/home/user'\n",
    "device = loadpanel('{}/{}//atm_panel.tsv'.format(path, month))"
   ]
  },
  {
   "cell_type": "code",
   "execution_count": 4,
   "metadata": {
    "collapsed": false
   },
   "outputs": [],
   "source": [
    "me = device.count_tran['2016-07-14':'2016-07-20']\n",
    "me = me[me < me.quantile(0.999)]#.plot()\n",
    "#me.plot.bar()\n",
    "me.plot()\n",
    "#me.resample('H', how='sum').plot.bar()\n",
    "plt.show()"
   ]
  },
  {
   "cell_type": "code",
   "execution_count": 63,
   "metadata": {
    "collapsed": false
   },
   "outputs": [
    {
     "data": {
      "text/plain": [
       "168"
      ]
     },
     "execution_count": 63,
     "metadata": {},
     "output_type": "execute_result"
    }
   ],
   "source": [
    "home_user = 'user'\n",
    "vd = device.count_tran['2016-07-03':'2016-07-09']\n",
    "ho = vd.resample('H', how='sum').index.hour\n",
    "#ocor = vd.resample('H', how='sum').values + np.random.normal(mu, sigma, 24).round()\n",
    "ocor = list(map(lambda x: int(x) if not np.isnan(x) else 0, vd.resample('H', how='sum').values))\n",
    "fr = list(zip(ho,ocor))\n",
    "#fr = pd.DataFrame(list(zip(ho,ocor)), columns=['hour','ocor'])\n",
    "#fr.ocor.plot()\n",
    "#plt.show()\n",
    "#print(fr)\n",
    "with open('/home/{}/rpca/hour_week.data'.format(home_user), 'w') as fo:\n",
    "    fo.write(','.join(map(str, ocor)))\n",
    "len(fr)"
   ]
  },
  {
   "cell_type": "code",
   "execution_count": 68,
   "metadata": {
    "collapsed": false
   },
   "outputs": [],
   "source": [
    "home_user = 'user'\n",
    "\n",
    "init = '2016-07-01'\n",
    "end = '2016-07-31'\n",
    "ind = pd.date_range(init, end, freq='T', closed='left')\n",
    "#ind = pd.date_range(init, periods=1440*7, freq='T')\n",
    "filler = pd.Series(np.nan, index=ind)\n",
    "data = device.count_tran#[init:end]\n",
    "#data = data[data < data.quantile(0.975)]\n",
    "filler.update(data)\n",
    "sm = filler.fillna(method='pad')#fillna(method='backfill')\n",
    "sm = sm['2016-07-14':'2016-07-20']\n",
    "repeat = 4\n",
    "obs = np.tile(sm.values.astype(int), repeat)\n",
    "obs = obs + 1#bug app\n",
    "with open('/home/{}/rpca/dev_7d.tsd'.format(home_user), 'w') as fo:\n",
    "    fo.write(','.join(map(str, obs)))"
   ]
  },
  {
   "cell_type": "code",
   "execution_count": 79,
   "metadata": {
    "collapsed": false
   },
   "outputs": [],
   "source": [
    "fr = {0: 39461, 1: 16330, 2: 7835, 3: 5422, 4: 6586, 5: 15475, 6: 47163, 7: 165291, 8: 366859, 9: 467935, 10: 480354, 11: 466204, 12: 355311, 13: 375890, 14: 421910,\n",
    "      15: 409478, 16: 392508, 17: 335769, 18: 266695, 19: 238259, 20: 220426, 21: 193137, 22: 128794, 23: 72548}\n",
    "mu, sigma = 5000, 3000\n",
    "buf = []\n",
    "for i in list(range(24))*30:\n",
    "    #buf.append(fr[i] + round(np.random.normal(mu,sigma)))\n",
    "    buf.append(fr[i] + np.random.uniform(-5422,5422))\n",
    "    #buf.append(fr[i])\n",
    "#plt.plot(buf)\n",
    "#plt.show()\n",
    "#with open('/home/user/rpca/start.data', 'w') as fo:\n",
    "#    fo.write(','.join(map(str, buf)))"
   ]
  },
  {
   "cell_type": "code",
   "execution_count": 194,
   "metadata": {
    "collapsed": false
   },
   "outputs": [
    {
     "data": {
      "text/plain": [
       "datetime.datetime(2016, 7, 8, 18, 59, 10, 957000)"
      ]
     },
     "execution_count": 194,
     "metadata": {},
     "output_type": "execute_result"
    }
   ],
   "source": [
    "window = 5\n",
    "cur = time.strptime('2016-07-08T17:59:59', '%Y-%m-%dT%H:%M:%S')\n",
    "#stop = int(time.mktime(cur)) - (int(time.mktime(cur)) % 60)\n",
    "stop = int(time.mktime(cur))\n",
    "stop = stop - (stop % 60) + window\n",
    "stop\n",
    "\n",
    "window = 5*1000\n",
    "stop - (stop % (60*1000)) + window\n",
    "\n",
    "stop = 1468015150957/1000\n",
    "datetime.fromtimestamp(stop)"
   ]
  },
  {
   "cell_type": "code",
   "execution_count": 87,
   "metadata": {
    "collapsed": true
   },
   "outputs": [],
   "source": [
    "with open('/home/{}/rpca/dev_7d.tsd'.format(home_user)) as fi:\n",
    "    buf = list(map(int, fi.read().split(',')))"
   ]
  },
  {
   "cell_type": "code",
   "execution_count": 83,
   "metadata": {
    "collapsed": false
   },
   "outputs": [
    {
     "data": {
      "text/plain": [
       "(4431.5, 8975.7513888888898, 9716.5998380194924)"
      ]
     },
     "execution_count": 83,
     "metadata": {},
     "output_type": "execute_result"
    }
   ],
   "source": [
    "np.median(buf),np.mean(buf),np.std(buf)"
   ]
  },
  {
   "cell_type": "code",
   "execution_count": 84,
   "metadata": {
    "collapsed": false
   },
   "outputs": [],
   "source": [
    "pd.Series(buf).plot()\n",
    "plt.show()"
   ]
  },
  {
   "cell_type": "code",
   "execution_count": 104,
   "metadata": {
    "collapsed": false
   },
   "outputs": [
    {
     "data": {
      "text/plain": [
       "(1471554521, 1268, 3086)"
      ]
     },
     "execution_count": 104,
     "metadata": {},
     "output_type": "execute_result"
    }
   ],
   "source": [
    "t0 = int(time.time())\n",
    "t1 = t0 - dst\n",
    "dst = 3600*3\n",
    "#int(t1/60) % 1440*7\n",
    "ind = int(t1/60) % (1440*7)\n",
    "t1,ind, buf[ind]"
   ]
  }
 ],
 "metadata": {
  "kernelspec": {
   "display_name": "Python 3",
   "language": "python",
   "name": "python3"
  },
  "language_info": {
   "codemirror_mode": {
    "name": "ipython",
    "version": 3
   },
   "file_extension": ".py",
   "mimetype": "text/x-python",
   "name": "python",
   "nbconvert_exporter": "python",
   "pygments_lexer": "ipython3",
   "version": "3.7.3"
  }
 },
 "nbformat": 4,
 "nbformat_minor": 2
}
